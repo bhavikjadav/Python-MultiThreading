{
 "cells": [
  {
   "cell_type": "markdown",
   "metadata": {},
   "source": [
    "# MutliThreading\n",
    "\n",
    "# Program without using multithreading."
   ]
  },
  {
   "cell_type": "code",
   "execution_count": 99,
   "metadata": {},
   "outputs": [],
   "source": [
    "import time\n",
    "import threading"
   ]
  },
  {
   "cell_type": "code",
   "execution_count": 100,
   "metadata": {},
   "outputs": [],
   "source": [
    "def calc_squares(numbers):\n",
    "    print(\"Calculating squares : \")\n",
    "    for n in numbers:\n",
    "        print(\"Square : \", (n*n))\n",
    "        time.sleep(0.2)"
   ]
  },
  {
   "cell_type": "code",
   "execution_count": 101,
   "metadata": {},
   "outputs": [],
   "source": [
    "def calc_cubes(numbers):\n",
    "    print(\"Calculating Cubes : \")\n",
    "    for n in numbers:\n",
    "        print(\"Cube : \", (n*n*n))\n",
    "        time.sleep(0.2)"
   ]
  },
  {
   "cell_type": "code",
   "execution_count": 102,
   "metadata": {},
   "outputs": [],
   "source": [
    "arr = [2, 3, 4, 5, 6, 7, 8, 9]"
   ]
  },
  {
   "cell_type": "code",
   "execution_count": 103,
   "metadata": {},
   "outputs": [],
   "source": [
    "t = time.time()"
   ]
  },
  {
   "cell_type": "code",
   "execution_count": 104,
   "metadata": {},
   "outputs": [
    {
     "name": "stdout",
     "output_type": "stream",
     "text": [
      "Calculating squares : \n",
      "Square :  4\n",
      "Square :  9\n",
      "Square :  16\n",
      "Square :  25\n",
      "Square :  36\n",
      "Square :  49\n",
      "Square :  64\n",
      "Square :  81\n",
      "Calculating Cubes : \n",
      "Cube :  8\n",
      "Cube :  27\n",
      "Cube :  64\n",
      "Cube :  125\n",
      "Cube :  216\n",
      "Cube :  343\n",
      "Cube :  512\n",
      "Cube :  729\n",
      "Done in : 3.6432900428771973 seconds.\n"
     ]
    }
   ],
   "source": [
    "calc_squares(arr)\n",
    "calc_cubes(arr)\n",
    "print(\"Done in :\", time.time()-t, \"seconds.\")"
   ]
  },
  {
   "cell_type": "markdown",
   "metadata": {},
   "source": [
    "# Program with using multithreading."
   ]
  },
  {
   "cell_type": "code",
   "execution_count": 155,
   "metadata": {},
   "outputs": [],
   "source": [
    "import time\n",
    "import threading"
   ]
  },
  {
   "cell_type": "code",
   "execution_count": 156,
   "metadata": {},
   "outputs": [],
   "source": [
    "def calc_squares(numbers):\n",
    "    print(\"Calculating Squares : \")\n",
    "    for n in numbers:\n",
    "        time.sleep(0.2)\n",
    "        print(\"Square : \", n*n)"
   ]
  },
  {
   "cell_type": "code",
   "execution_count": 157,
   "metadata": {},
   "outputs": [],
   "source": [
    "def calc_cubes(numbers):\n",
    "    print(\"Calcilating Cubes : \")\n",
    "    for n in numbers:\n",
    "        time.sleep(0.2)\n",
    "        print(\"Cubes : \", n*n*n)"
   ]
  },
  {
   "cell_type": "code",
   "execution_count": 158,
   "metadata": {},
   "outputs": [],
   "source": [
    "arr = [2, 3, 4, 5, 6, 7, 8, 9]"
   ]
  },
  {
   "cell_type": "code",
   "execution_count": 159,
   "metadata": {},
   "outputs": [],
   "source": [
    "t = time.time()"
   ]
  },
  {
   "cell_type": "code",
   "execution_count": 160,
   "metadata": {},
   "outputs": [
    {
     "name": "stdout",
     "output_type": "stream",
     "text": [
      "Calculating Squares : \n",
      "Calcilating Cubes : \n",
      "Cubes : Square :  8\n",
      " 4\n",
      "Square :  9\n",
      "Cubes :  27\n",
      "Cubes :  64\n",
      "Square :  16\n",
      "Square :  25\n",
      "Cubes :  125\n",
      "Cubes :  216\n",
      "Square :  36\n",
      "Square : Cubes :  49\n",
      " 343\n",
      "Cubes : Square :  512\n",
      " 64\n",
      "Square : Cubes :  729\n",
      " 81\n",
      "Done in : 1.933408498764038 seconds.\n"
     ]
    }
   ],
   "source": [
    "t1 = threading.Thread(target=calc_squares, args=(arr,)) # Creating thread (task.)\n",
    "t2 = threading.Thread(target=calc_cubes, args=(arr,)) # Creating another thread. (task)\n",
    "\n",
    "t1.start() # starting threading for task1.\n",
    "t2.start() # starting threading for task2.\n",
    "\n",
    "t1.join() # join() will wait until the parellel function will execute.\n",
    "t2.join() # join() will do same as above.\n",
    "\n",
    "print(\"Done in :\", time.time()-t, \"seconds.\") # Counting total time."
   ]
  }
 ],
 "metadata": {
  "kernelspec": {
   "display_name": "Python 3",
   "language": "python",
   "name": "python3"
  },
  "language_info": {
   "codemirror_mode": {
    "name": "ipython",
    "version": 3
   },
   "file_extension": ".py",
   "mimetype": "text/x-python",
   "name": "python",
   "nbconvert_exporter": "python",
   "pygments_lexer": "ipython3",
   "version": "3.8.5"
  }
 },
 "nbformat": 4,
 "nbformat_minor": 4
}
